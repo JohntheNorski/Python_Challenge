{
 "cells": [
  {
   "cell_type": "code",
   "execution_count": 1,
   "metadata": {},
   "outputs": [],
   "source": [
    "import os\n",
    "import csv\n",
    "\n",
    "csvpath = (r\"C:\\Users\\stodd\\Python\\Python_Challenge\\PyBank\\budget_data.csv\")"
   ]
  },
  {
   "cell_type": "code",
   "execution_count": 2,
   "metadata": {},
   "outputs": [
    {
     "name": "stdout",
     "output_type": "stream",
     "text": [
      "This data includes: 86 Months\n",
      "Net Total: $38382578\n",
      "Average Price Change: $-2315.12\n",
      "Greatest Price Increase: $1926159\n",
      "Greatest Price Decrease: $-2196167\n"
     ]
    }
   ],
   "source": [
    "with open(csvpath, 'r') as csvfile:\n",
    "    MonthTotal = 0\n",
    "    ProfitLossTotal = 0\n",
    "    CurrentPrice = 0\n",
    "    PriceChange = 0\n",
    "    PriceChangeMax = 0\n",
    "    PriceChangeMin = 0\n",
    "    PriceChangeMaxDate = \"\"\n",
    "    PriceChangeMinDate = \"\"\n",
    "    PriceChangeTotal = []\n",
    "    PreviousPrice = 0\n",
    "    AveragePriceChange = 0\n",
    "    csvreader = csv.reader(csvfile, delimiter=',')\n",
    "    header = next(csvreader)\n",
    "    for row in csvreader:\n",
    "        MonthTotal += 1\n",
    "        ProfitLossTotal += int(row[1])\n",
    "        CurrentPrice = int(row[1])\n",
    "        PriceChange = CurrentPrice - PreviousPrice\n",
    "        if PriceChange > PriceChangeMax:\n",
    "            PriceChangeMax = PriceChange\n",
    "            PriceChangeMaxDate = str(row[0])\n",
    "        elif PriceChange < PriceChangeMin:\n",
    "            PriceChangeMin = PriceChange\n",
    "            PriceChangeMinDate = str(row[0])\n",
    "        PriceChangeTotal.append(PriceChange)\n",
    "        PreviousPrice = CurrentPrice\n",
    "    AveragePriceChange = round(sum(PriceChangeTotal[1:]) / (MonthTotal - 1),2)\n",
    "    print(\"This data includes: \" + str(MonthTotal) + \" Months\")\n",
    "    print(\"Net Total: $\" + str(ProfitLossTotal))\n",
    "    print(\"Average Price Change: $\" + str(AveragePriceChange))\n",
    "    print(\"Greatest Price Increase: $\" + str(PriceChangeMax))    \n",
    "    print(\"Greatest Price Decrease: $\" + str(PriceChangeMin))"
   ]
  },
  {
   "cell_type": "code",
   "execution_count": 3,
   "metadata": {},
   "outputs": [],
   "source": [
    "with open(\"Summary.txt\",\"w\") as file1:\n",
    "    file1.write(\"This data includes: \" + str(MonthTotal) + \" Months \\n\")\n",
    "    file1.write(\"Net Total: $\" + str(ProfitLossTotal) + \"\\n\")\n",
    "    file1.write(\"Average Price Change: $\" + str(AveragePriceChange) + \"\\n\")\n",
    "    file1.write(\"Greatest Price Increase: $\" + str(PriceChangeMax) + \"\\n\")\n",
    "    file1.write(\"Greatest Price Decrease: $\" + str(PriceChangeMin) + \"\\n\")"
   ]
  }
 ],
 "metadata": {
  "kernelspec": {
   "display_name": "Python 3",
   "language": "python",
   "name": "python3"
  },
  "language_info": {
   "codemirror_mode": {
    "name": "ipython",
    "version": 3
   },
   "file_extension": ".py",
   "mimetype": "text/x-python",
   "name": "python",
   "nbconvert_exporter": "python",
   "pygments_lexer": "ipython3",
   "version": "3.8.3"
  }
 },
 "nbformat": 4,
 "nbformat_minor": 4
}
