{
 "cells": [
  {
   "cell_type": "code",
   "execution_count": 2,
   "metadata": {},
   "outputs": [],
   "source": [
    "#bringing in dependencies and file path. I like to use the full path for reference\n",
    "import os\n",
    "import csv\n",
    "\n",
    "csvpath = (r\"C:\\Users\\stodd\\Python\\Python_Challenge\\PyBank\\budget_data.csv\")"
   ]
  },
  {
   "cell_type": "code",
   "execution_count": 3,
   "metadata": {},
   "outputs": [
    {
     "name": "stdout",
     "output_type": "stream",
     "text": [
      "This data includes: 86 Months\n",
      "Net Total: $38382578\n",
      "Average Price Change: $-2315.12\n",
      "Greatest Price Increase: Feb-2012  $1926159\n",
      "Greatest Price Decrease: Sep-2013  $-2196167\n"
     ]
    }
   ],
   "source": [
    "#Beginning my with path, opening up that file path\n",
    "with open(csvpath, 'r') as csvfile:\n",
    "    #I like to set all variables I will be using, feels good to gather my tools first\n",
    "    MonthTotal = 0\n",
    "    ProfitLossTotal = 0\n",
    "    CurrentPrice = 0\n",
    "    PriceChange = 0\n",
    "    PriceChangeMax = 0\n",
    "    PriceChangeMin = 0\n",
    "    PriceChangeMaxDate = \"\"\n",
    "    PriceChangeMinDate = \"\"\n",
    "    PriceChangeTotal = []\n",
    "    PreviousPrice = 0\n",
    "    AveragePriceChange = 0\n",
    "    #delimiting the csv to split out by , and then storing the header\n",
    "    csvreader = csv.reader(csvfile, delimiter=',')\n",
    "    header = next(csvreader)\n",
    "    #looping through all rows in the file\n",
    "    for row in csvreader:\n",
    "        #For each row I add 1 to our total months, add the profit/loss, check the current price vs. previous price\n",
    "        MonthTotal += 1\n",
    "        ProfitLossTotal += int(row[1])\n",
    "        CurrentPrice = int(row[1])\n",
    "        PriceChange = CurrentPrice - PreviousPrice\n",
    "        #If the price change is greater/less than max/min, set the new max min\n",
    "        if PriceChange > PriceChangeMax:\n",
    "            PriceChangeMax = PriceChange\n",
    "            PriceChangeMaxDate = str(row[0])\n",
    "        elif PriceChange < PriceChangeMin:\n",
    "            PriceChangeMin = PriceChange\n",
    "            PriceChangeMinDate = str(row[0])\n",
    "        #I'm using a list to append all price changes, so w/o changing my logic I can toss the first 'change' from 0 to price 1\n",
    "        PriceChangeTotal.append(PriceChange)\n",
    "        #Set the previous price to be the current price for the next iteration\n",
    "        PreviousPrice = CurrentPrice\n",
    "    #Here is where I calc avg price change by adding all values from [1:] in my list, then divide by the count of months - 1\n",
    "    #This is because the first month there wasn't a 'change'\n",
    "    AveragePriceChange = round(sum(PriceChangeTotal[1:]) / (MonthTotal - 1),2)\n",
    "    #printing all of my variables to terminal\n",
    "    print(\"This data includes: \" + str(MonthTotal) + \" Months\")\n",
    "    print(\"Net Total: $\" + str(ProfitLossTotal))\n",
    "    print(\"Average Price Change: $\" + str(AveragePriceChange))\n",
    "    print(\"Greatest Price Increase: \" + str(PriceChangeMaxDate) + \"  $\" + str(PriceChangeMax))    \n",
    "    print(\"Greatest Price Decrease: \" + str(PriceChangeMinDate) + \"  $\" + str(PriceChangeMin))"
   ]
  },
  {
   "cell_type": "code",
   "execution_count": 4,
   "metadata": {},
   "outputs": [],
   "source": [
    "#creating/opening a file called summary in w mode, then writing the terminal in essence to it\n",
    "with open(\"Summary.txt\",\"w\") as file1:\n",
    "    file1.write(\"This data includes: \" + str(MonthTotal) + \" Months \\n\")\n",
    "    file1.write(\"Net Total: $\" + str(ProfitLossTotal) + \"\\n\")\n",
    "    file1.write(\"Average Price Change: $\" + str(AveragePriceChange) + \"\\n\")\n",
    "    file1.write(\"Greatest Price Increase: \" + str(PriceChangeMaxDate) + \"  $\" + str(PriceChangeMax) + \"\\n\")\n",
    "    file1.write(\"Greatest Price Decrease: \" + str(PriceChangeMinDate) + \"  $\" + str(PriceChangeMin) + \"\\n\")"
   ]
  }
 ],
 "metadata": {
  "kernelspec": {
   "display_name": "Python 3",
   "language": "python",
   "name": "python3"
  },
  "language_info": {
   "codemirror_mode": {
    "name": "ipython",
    "version": 3
   },
   "file_extension": ".py",
   "mimetype": "text/x-python",
   "name": "python",
   "nbconvert_exporter": "python",
   "pygments_lexer": "ipython3",
   "version": "3.6.10"
  }
 },
 "nbformat": 4,
 "nbformat_minor": 4
}
