{
 "cells": [
  {
   "cell_type": "code",
   "execution_count": 3,
   "metadata": {},
   "outputs": [],
   "source": [
    "import os\n",
    "import csv\n",
    "\n",
    "csvpath = (r\"C:\\Users\\stodd\\Python\\Python_Challenge\\PyPoll\\election_data.csv\")"
   ]
  },
  {
   "cell_type": "code",
   "execution_count": 4,
   "metadata": {},
   "outputs": [
    {
     "name": "stdout",
     "output_type": "stream",
     "text": [
      "Election Results \n",
      "\n",
      "Total Votes: 3521001\n",
      "\n",
      "Khan: 2218231 Votes  63.0% \n",
      "\n",
      "Correy: 704200 Votes  20.0% \n",
      "\n",
      "Li: 492940 Votes  14.0% \n",
      "\n",
      "O'Tooley: 105630 Votes  3.0% \n",
      "\n",
      "Winner: Khan\n"
     ]
    }
   ],
   "source": [
    "with open(csvpath, 'r') as csvfile:\n",
    "    \n",
    "    csvreader = csv.reader(csvfile, delimiter=',')\n",
    "    header = next(csvreader)\n",
    "    CandidateList = []\n",
    "    VoteCount = []\n",
    "    \n",
    "    for row in csvreader:\n",
    "        try:\n",
    "            index = CandidateList.index(row[2])\n",
    "            VoteCount[index] += 1\n",
    "        except:\n",
    "            CandidateList.append(row[2])\n",
    "            VoteCount.append(1)\n",
    "    TotalVotes = sum(VoteCount)\n",
    "    print(\"Election Results \\n\")\n",
    "    print(\"Total Votes: \" + str(TotalVotes) + \"\\n\")\n",
    "    for i in range(len(VoteCount)):\n",
    "        print(str(CandidateList[i]) + \": \" + str(VoteCount[i]) + \" Votes  \" + str(round((VoteCount[i] / TotalVotes * 100),0)) + \"% \\n\")\n",
    "    print(\"Winner: \" + str(CandidateList[VoteCount.index(max(VoteCount))]))"
   ]
  },
  {
   "cell_type": "code",
   "execution_count": 5,
   "metadata": {},
   "outputs": [],
   "source": [
    "with open(\"Summary.txt\",\"w\") as file1:\n",
    "    file1.write(\"Election Results \\n\")\n",
    "    file1.write(\"Total Votes: \" + str(TotalVotes) + \"\\n\")\n",
    "    for i in range(len(VoteCount)):\n",
    "        file1.write(str(CandidateList[i]) + \": \" + str(VoteCount[i]) + \" Votes  \" + str(round((VoteCount[i] / TotalVotes * 100),0)) + \"% \\n\")\n",
    "    file1.write(\"Winner: \" + str(CandidateList[VoteCount.index(max(VoteCount))]))"
   ]
  }
 ],
 "metadata": {
  "kernelspec": {
   "display_name": "Python 3",
   "language": "python",
   "name": "python3"
  },
  "language_info": {
   "codemirror_mode": {
    "name": "ipython",
    "version": 3
   },
   "file_extension": ".py",
   "mimetype": "text/x-python",
   "name": "python",
   "nbconvert_exporter": "python",
   "pygments_lexer": "ipython3",
   "version": "3.6.10"
  }
 },
 "nbformat": 4,
 "nbformat_minor": 4
}
