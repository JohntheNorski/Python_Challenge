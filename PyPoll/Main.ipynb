{
 "cells": [
  {
   "cell_type": "code",
   "execution_count": 1,
   "metadata": {},
   "outputs": [],
   "source": [
    "#importing in dependencies and setting a file path to data source\n",
    "import os\n",
    "import csv\n",
    "\n",
    "csvpath = (r\"C:\\Users\\stodd\\Python\\Python_Challenge\\PyPoll\\election_data.csv\")"
   ]
  },
  {
   "cell_type": "code",
   "execution_count": 2,
   "metadata": {},
   "outputs": [
    {
     "name": "stdout",
     "output_type": "stream",
     "text": [
      "Election Results \n",
      "\n",
      "Total Votes: 3521001\n",
      "\n",
      "Khan: 2218231 Votes  63.0% \n",
      "\n",
      "Correy: 704200 Votes  20.0% \n",
      "\n",
      "Li: 492940 Votes  14.0% \n",
      "\n",
      "O'Tooley: 105630 Votes  3.0% \n",
      "\n",
      "Winner: Khan\n"
     ]
    }
   ],
   "source": [
    "#Beginning my with statement by opening dat file\n",
    "with open(csvpath, 'r') as csvfile:\n",
    "    \n",
    "    #delimiting the file by , and setting header + a couple of lists\n",
    "    csvreader = csv.reader(csvfile, delimiter=',')\n",
    "    header = next(csvreader)\n",
    "    CandidateList = []\n",
    "    VoteCount = []\n",
    "    #looping through each row\n",
    "    for row in csvreader:\n",
    "        #for each row, going to try to grab the index of the candidatelist where there's a match for row[2]\n",
    "        #If this goes through, I can match up my lists by adding a count to the vote count list at the same index loc\n",
    "        try:\n",
    "            index = CandidateList.index(row[2])\n",
    "            VoteCount[index] += 1\n",
    "        #if it fails, it means there isn't a match for that new name. Now I can append a new index for both lists for new name\n",
    "        except:\n",
    "            CandidateList.append(row[2])\n",
    "            VoteCount.append(1)\n",
    "    #Summing my votecount list for total votes, printing results\n",
    "    TotalVotes = sum(VoteCount)\n",
    "    print(\"Election Results \\n\")\n",
    "    print(\"Total Votes: \" + str(TotalVotes) + \"\\n\")\n",
    "    #for loop goes through range of the length of my votecount list, prints candidate/vote count plus percentage of total\n",
    "    for i in range(len(VoteCount)):\n",
    "        print(str(CandidateList[i]) + \": \" + str(VoteCount[i]) + \" Votes  \" + str(round((VoteCount[i] / TotalVotes * 100),0)) + \"% \\n\")\n",
    "    #Finding the winner by finding the max value in VoteCount list, indexing this value, plugging this into candidatelist to pull name\n",
    "    print(\"Winner: \" + str(CandidateList[VoteCount.index(max(VoteCount))]))"
   ]
  },
  {
   "cell_type": "code",
   "execution_count": 3,
   "metadata": {},
   "outputs": [],
   "source": [
    "#printing my results to a text file I'm opening up in w mode to write\n",
    "with open(\"Summary.txt\",\"w\") as file1:\n",
    "    file1.write(\"Election Results \\n\")\n",
    "    file1.write(\"Total Votes: \" + str(TotalVotes) + \"\\n\")\n",
    "    for i in range(len(VoteCount)):\n",
    "        file1.write(str(CandidateList[i]) + \": \" + str(VoteCount[i]) + \" Votes  \" + str(round((VoteCount[i] / TotalVotes * 100),0)) + \"% \\n\")\n",
    "    file1.write(\"Winner: \" + str(CandidateList[VoteCount.index(max(VoteCount))]))"
   ]
  }
 ],
 "metadata": {
  "kernelspec": {
   "display_name": "Python 3",
   "language": "python",
   "name": "python3"
  },
  "language_info": {
   "codemirror_mode": {
    "name": "ipython",
    "version": 3
   },
   "file_extension": ".py",
   "mimetype": "text/x-python",
   "name": "python",
   "nbconvert_exporter": "python",
   "pygments_lexer": "ipython3",
   "version": "3.6.10"
  }
 },
 "nbformat": 4,
 "nbformat_minor": 4
}
